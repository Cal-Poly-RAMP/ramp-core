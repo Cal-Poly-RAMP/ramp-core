{
 "cells": [
  {
   "cell_type": "code",
   "execution_count": 2,
   "metadata": {},
   "outputs": [],
   "source": [
    "from pymtl3 import *\n",
    "from pymtl3.passes.backends.verilog import *"
   ]
  },
  {
   "cell_type": "code",
   "execution_count": 3,
   "metadata": {},
   "outputs": [],
   "source": [
    "# Simulation\n",
    "class Adder(Component):\n",
    "    def construct (s):\n",
    "        s.a = InPort(32)\n",
    "        s.b = InPort(32)\n",
    "        s.q = OutPort(32)\n",
    "\n",
    "        @update\n",
    "        def comb():\n",
    "            s.q @= s.a + s.b"
   ]
  },
  {
   "cell_type": "code",
   "execution_count": 4,
   "metadata": {},
   "outputs": [
    {
     "name": "stdout",
     "output_type": "stream",
     "text": [
      "12\n"
     ]
    }
   ],
   "source": [
    "a = Adder()\n",
    "a.apply(DefaultPassGroup(linetrace=True, textwave=True))\n",
    "a.sim_reset()\n",
    "\n",
    "a.a @= 5\n",
    "a.b @= 7\n",
    "a.sim_eval_combinational()\n",
    "print(a.q.uint())"
   ]
  },
  {
   "cell_type": "code",
   "execution_count": 5,
   "metadata": {},
   "outputs": [
    {
     "name": "stdout",
     "output_type": "stream",
     "text": [
      "\n",
      "      |0    |1    |2    |3    \n",
      "\n",
      "  clk /‾‾\\__/‾‾\\__/‾‾\\__/‾‾\\__\n",
      "\n",
      "reset ‾‾‾‾‾‾‾‾‾‾‾‾‾‾‾‾‾‾\\_____\n",
      "\n",
      "    a \u001b[47m \u001b[30m0000000          \u001b[47m\u001b[30m|+0005\u001b[0m\n",
      "\n",
      "    b \u001b[47m \u001b[30m0000000          \u001b[47m\u001b[30m|+0007\u001b[0m\n",
      "\n",
      "    q \u001b[47m \u001b[30m0000000          \u001b[47m\u001b[30m|+000c\u001b[0m\n",
      "\n"
     ]
    }
   ],
   "source": [
    "a.sim_tick()\n",
    "a.print_textwave()"
   ]
  },
  {
   "cell_type": "code",
   "execution_count": 6,
   "metadata": {},
   "outputs": [
    {
     "ename": "PyMTLSyntaxError",
     "evalue": "\nIn file /Users/curtisbucher/Desktop/ramp-core/src/cl/register_rename.py, Line 77, Col 19:\n  if s.free_list[i] and s.pdst1 == 0:\n     ^\n- Boolean operations are not translatable due to inconsistent semantics between Python and PyMTL. Please consider using bitwise &, |, and ~ instead!",
     "output_type": "error",
     "traceback": [
      "\u001b[0;31m---------------------------------------------------------------------------\u001b[0m",
      "\u001b[0;31mPyMTLSyntaxError\u001b[0m                          Traceback (most recent call last)",
      "\u001b[1;32m/Users/curtisbucher/Desktop/ramp-core/playground.ipynb Cell 5\u001b[0m in \u001b[0;36m<cell line: 13>\u001b[0;34m()\u001b[0m\n\u001b[1;32m     <a href='vscode-notebook-cell:/Users/curtisbucher/Desktop/ramp-core/playground.ipynb#ch0000004?line=9'>10</a>\u001b[0m model\u001b[39m.\u001b[39mset_metadata(VerilogTranslationPass\u001b[39m.\u001b[39mexplicit_module_name, model\u001b[39m.\u001b[39m\u001b[39m__class__\u001b[39m\u001b[39m.\u001b[39m\u001b[39m__name__\u001b[39m)\n\u001b[1;32m     <a href='vscode-notebook-cell:/Users/curtisbucher/Desktop/ramp-core/playground.ipynb#ch0000004?line=11'>12</a>\u001b[0m \u001b[39m# Generate Verilog\u001b[39;00m\n\u001b[0;32m---> <a href='vscode-notebook-cell:/Users/curtisbucher/Desktop/ramp-core/playground.ipynb#ch0000004?line=12'>13</a>\u001b[0m model\u001b[39m.\u001b[39;49mapply( VerilogTranslationPass() )\n",
      "File \u001b[0;32m~/miniforge3/envs/pymtl/lib/python3.8/site-packages/pymtl3/dsl/Component.py:530\u001b[0m, in \u001b[0;36mComponent.apply\u001b[0;34m(s, pass_instance)\u001b[0m\n\u001b[1;32m    527\u001b[0m \u001b[39massert\u001b[39;00m \u001b[39mtype\u001b[39m(pass_instance) \u001b[39mis\u001b[39;00m \u001b[39mnot\u001b[39;00m \u001b[39mtype\u001b[39m, \u001b[39mf\u001b[39m\u001b[39m\"\u001b[39m\u001b[39mShould pass in a pass instance like \u001b[39m\u001b[39m\"\u001b[39m \\\n\u001b[1;32m    528\u001b[0m                                         \u001b[39mf\u001b[39m\u001b[39m\"\u001b[39m\u001b[39m'\u001b[39m\u001b[39m{\u001b[39;00mpass_instance\u001b[39m.\u001b[39m\u001b[39m__name__\u001b[39m\u001b[39m}\u001b[39;00m\u001b[39m()\u001b[39m\u001b[39m'\u001b[39m\u001b[39m instead of \u001b[39m\u001b[39m'\u001b[39m\u001b[39m{\u001b[39;00mpass_instance\u001b[39m.\u001b[39m\u001b[39m__name__\u001b[39m\u001b[39m}\u001b[39;00m\u001b[39m'\u001b[39m\u001b[39m\"\u001b[39m\n\u001b[1;32m    529\u001b[0m \u001b[39massert\u001b[39;00m callable( pass_instance ), \u001b[39mf\u001b[39m\u001b[39m\"\u001b[39m\u001b[39mShould override __call__ of \u001b[39m\u001b[39m{\u001b[39;00mpass_instance\u001b[39m.\u001b[39m\u001b[39m__name__\u001b[39m\u001b[39m}\u001b[39;00m\u001b[39m for a valid pass\u001b[39m\u001b[39m\"\u001b[39m\n\u001b[0;32m--> 530\u001b[0m pass_instance( s )\n",
      "File \u001b[0;32m~/miniforge3/envs/pymtl/lib/python3.8/site-packages/pymtl3/passes/backends/verilog/translation/VerilogTranslationPass.py:109\u001b[0m, in \u001b[0;36mVerilogTranslationPass.__call__\u001b[0;34m(s, top)\u001b[0m\n\u001b[1;32m    107\u001b[0m s\u001b[39m.\u001b[39mtop \u001b[39m=\u001b[39m top\n\u001b[1;32m    108\u001b[0m s\u001b[39m.\u001b[39mtranslator \u001b[39m=\u001b[39m VTranslator( s\u001b[39m.\u001b[39mtop )\n\u001b[0;32m--> 109\u001b[0m s\u001b[39m.\u001b[39;49mtraverse_hierarchy( top )\n",
      "File \u001b[0;32m~/miniforge3/envs/pymtl/lib/python3.8/site-packages/pymtl3/passes/backends/verilog/translation/VerilogTranslationPass.py:134\u001b[0m, in \u001b[0;36mVerilogTranslationPass.traverse_hierarchy\u001b[0;34m(s, m)\u001b[0m\n\u001b[1;32m    132\u001b[0m \u001b[39mif\u001b[39;00m m\u001b[39m.\u001b[39mhas_metadata( c\u001b[39m.\u001b[39menable ) \u001b[39mand\u001b[39;00m m\u001b[39m.\u001b[39mget_metadata( c\u001b[39m.\u001b[39menable ):\n\u001b[1;32m    133\u001b[0m   m\u001b[39m.\u001b[39mset_metadata( c\u001b[39m.\u001b[39mtranslate_config, s\u001b[39m.\u001b[39mgen_tr_cfgs(m) )\n\u001b[0;32m--> 134\u001b[0m   s\u001b[39m.\u001b[39;49mtranslator\u001b[39m.\u001b[39;49mtranslate( m, m\u001b[39m.\u001b[39;49mget_metadata( c\u001b[39m.\u001b[39;49mtranslate_config ) )\n\u001b[1;32m    136\u001b[0m   module_name \u001b[39m=\u001b[39m s\u001b[39m.\u001b[39mtranslator\u001b[39m.\u001b[39m_top_module_full_name\n\u001b[1;32m    138\u001b[0m   \u001b[39mif\u001b[39;00m m\u001b[39m.\u001b[39mhas_metadata( c\u001b[39m.\u001b[39mexplicit_file_name ) \u001b[39mand\u001b[39;00m \\\n\u001b[1;32m    139\u001b[0m      m\u001b[39m.\u001b[39mget_metadata( c\u001b[39m.\u001b[39mexplicit_file_name ):\n",
      "File \u001b[0;32m~/miniforge3/envs/pymtl/lib/python3.8/site-packages/pymtl3/passes/backends/generic/RTLIRTranslator.py:64\u001b[0m, in \u001b[0;36mmk_RTLIRTranslator.<locals>._RTLIRTranslator.translate\u001b[0;34m(s, tr_top, tr_cfgs)\u001b[0m\n\u001b[1;32m     61\u001b[0m   s\u001b[39m.\u001b[39m_gen_hierarchy_metadata( \u001b[39m'\u001b[39m\u001b[39mdecl_type_struct\u001b[39m\u001b[39m'\u001b[39m, \u001b[39m'\u001b[39m\u001b[39mdecl_type_struct\u001b[39m\u001b[39m'\u001b[39m )\n\u001b[1;32m     63\u001b[0m \u001b[39m# Clear all translator metadata\u001b[39;00m\n\u001b[0;32m---> 64\u001b[0m s\u001b[39m.\u001b[39;49mclear( tr_top, tr_cfgs )\n\u001b[1;32m     66\u001b[0m s\u001b[39m.\u001b[39mcomponent \u001b[39m=\u001b[39m {}\n\u001b[1;32m     67\u001b[0m \u001b[39m# Generate backend representation for each component\u001b[39;00m\n",
      "File \u001b[0;32m~/miniforge3/envs/pymtl/lib/python3.8/site-packages/pymtl3/passes/backends/generic/RTLIRTranslator.py:28\u001b[0m, in \u001b[0;36mmk_RTLIRTranslator.<locals>._RTLIRTranslator.clear\u001b[0;34m(s, tr_top, tr_cfgs)\u001b[0m\n\u001b[1;32m     26\u001b[0m s\u001b[39m.\u001b[39mtr_cfgs \u001b[39m=\u001b[39m tr_cfgs\n\u001b[1;32m     27\u001b[0m s\u001b[39m.\u001b[39mhierarchy \u001b[39m=\u001b[39m TranslatorMetadata()\n\u001b[0;32m---> 28\u001b[0m \u001b[39msuper\u001b[39;49m()\u001b[39m.\u001b[39;49mclear( tr_top )\n",
      "File \u001b[0;32m~/miniforge3/envs/pymtl/lib/python3.8/site-packages/pymtl3/passes/backends/generic/behavioral/BehavioralTranslatorL5.py:23\u001b[0m, in \u001b[0;36mBehavioralTranslatorL5.clear\u001b[0;34m(s, tr_top)\u001b[0m\n\u001b[1;32m     22\u001b[0m \u001b[39mdef\u001b[39;00m \u001b[39mclear\u001b[39m( s, tr_top ):\n\u001b[0;32m---> 23\u001b[0m   \u001b[39msuper\u001b[39;49m()\u001b[39m.\u001b[39;49mclear( tr_top )\n",
      "File \u001b[0;32m~/miniforge3/envs/pymtl/lib/python3.8/site-packages/pymtl3/passes/backends/generic/behavioral/BehavioralTranslatorL1.py:26\u001b[0m, in \u001b[0;36mBehavioralTranslatorL1.clear\u001b[0;34m(s, tr_top)\u001b[0m\n\u001b[1;32m     24\u001b[0m \u001b[39mdef\u001b[39;00m \u001b[39mclear\u001b[39m( s, tr_top ):\n\u001b[1;32m     25\u001b[0m   \u001b[39msuper\u001b[39m()\u001b[39m.\u001b[39mclear( tr_top )\n\u001b[0;32m---> 26\u001b[0m   s\u001b[39m.\u001b[39;49mgen_behavioral_trans_metadata( tr_top )\n",
      "File \u001b[0;32m~/miniforge3/envs/pymtl/lib/python3.8/site-packages/pymtl3/passes/backends/generic/behavioral/BehavioralTranslatorL2.py:29\u001b[0m, in \u001b[0;36mBehavioralTranslatorL2.gen_behavioral_trans_metadata\u001b[0;34m(s, tr_top)\u001b[0m\n\u001b[1;32m     27\u001b[0m s\u001b[39m.\u001b[39mbehavioral\u001b[39m.\u001b[39mtmpvars \u001b[39m=\u001b[39m {}\n\u001b[1;32m     28\u001b[0m s\u001b[39m.\u001b[39mbehavioral\u001b[39m.\u001b[39mdecl_tmpvars \u001b[39m=\u001b[39m {}\n\u001b[0;32m---> 29\u001b[0m \u001b[39msuper\u001b[39;49m()\u001b[39m.\u001b[39;49mgen_behavioral_trans_metadata( tr_top )\n",
      "File \u001b[0;32m~/miniforge3/envs/pymtl/lib/python3.8/site-packages/pymtl3/passes/backends/generic/behavioral/BehavioralTranslatorL1.py:40\u001b[0m, in \u001b[0;36mBehavioralTranslatorL1.gen_behavioral_trans_metadata\u001b[0;34m(s, tr_top)\u001b[0m\n\u001b[1;32m     38\u001b[0m s\u001b[39m.\u001b[39mbehavioral\u001b[39m.\u001b[39mupblk_py_srcs \u001b[39m=\u001b[39m {}\n\u001b[1;32m     39\u001b[0m s\u001b[39m.\u001b[39mbehavioral\u001b[39m.\u001b[39mdecl_freevars \u001b[39m=\u001b[39m {}\n\u001b[0;32m---> 40\u001b[0m s\u001b[39m.\u001b[39;49m_gen_behavioral_trans_metadata( tr_top )\n",
      "File \u001b[0;32m~/miniforge3/envs/pymtl/lib/python3.8/site-packages/pymtl3/passes/backends/generic/behavioral/BehavioralTranslatorL5.py:42\u001b[0m, in \u001b[0;36mBehavioralTranslatorL5._gen_behavioral_trans_metadata\u001b[0;34m(s, m)\u001b[0m\n\u001b[1;32m     40\u001b[0m \u001b[39m# Visit the whole component hierarchy because now we have subcomponents\u001b[39;00m\n\u001b[1;32m     41\u001b[0m \u001b[39mfor\u001b[39;00m child \u001b[39min\u001b[39;00m m\u001b[39m.\u001b[39mget_child_components(\u001b[39mrepr\u001b[39m):\n\u001b[0;32m---> 42\u001b[0m   s\u001b[39m.\u001b[39;49m_gen_behavioral_trans_metadata( child )\n",
      "File \u001b[0;32m~/miniforge3/envs/pymtl/lib/python3.8/site-packages/pymtl3/passes/backends/generic/behavioral/BehavioralTranslatorL5.py:31\u001b[0m, in \u001b[0;36mBehavioralTranslatorL5._gen_behavioral_trans_metadata\u001b[0;34m(s, m)\u001b[0m\n\u001b[1;32m     30\u001b[0m \u001b[39mdef\u001b[39;00m \u001b[39m_gen_behavioral_trans_metadata\u001b[39m( s, m ):\n\u001b[0;32m---> 31\u001b[0m   m\u001b[39m.\u001b[39;49mapply( BehavioralRTLIRGenL5Pass( s\u001b[39m.\u001b[39;49mtr_top ) )\n\u001b[1;32m     32\u001b[0m   m\u001b[39m.\u001b[39mapply( BehavioralRTLIRTypeCheckL5Pass( s\u001b[39m.\u001b[39mtr_top ) )\n\u001b[1;32m     33\u001b[0m   s\u001b[39m.\u001b[39mbehavioral\u001b[39m.\u001b[39mrtlir[m] \u001b[39m=\u001b[39m \\\n\u001b[1;32m     34\u001b[0m       m\u001b[39m.\u001b[39mget_metadata( BehavioralRTLIRGenL5Pass\u001b[39m.\u001b[39mrtlir_upblks )\n",
      "File \u001b[0;32m~/miniforge3/envs/pymtl/lib/python3.8/site-packages/pymtl3/dsl/Component.py:530\u001b[0m, in \u001b[0;36mComponent.apply\u001b[0;34m(s, pass_instance)\u001b[0m\n\u001b[1;32m    527\u001b[0m \u001b[39massert\u001b[39;00m \u001b[39mtype\u001b[39m(pass_instance) \u001b[39mis\u001b[39;00m \u001b[39mnot\u001b[39;00m \u001b[39mtype\u001b[39m, \u001b[39mf\u001b[39m\u001b[39m\"\u001b[39m\u001b[39mShould pass in a pass instance like \u001b[39m\u001b[39m\"\u001b[39m \\\n\u001b[1;32m    528\u001b[0m                                         \u001b[39mf\u001b[39m\u001b[39m\"\u001b[39m\u001b[39m'\u001b[39m\u001b[39m{\u001b[39;00mpass_instance\u001b[39m.\u001b[39m\u001b[39m__name__\u001b[39m\u001b[39m}\u001b[39;00m\u001b[39m()\u001b[39m\u001b[39m'\u001b[39m\u001b[39m instead of \u001b[39m\u001b[39m'\u001b[39m\u001b[39m{\u001b[39;00mpass_instance\u001b[39m.\u001b[39m\u001b[39m__name__\u001b[39m\u001b[39m}\u001b[39;00m\u001b[39m'\u001b[39m\u001b[39m\"\u001b[39m\n\u001b[1;32m    529\u001b[0m \u001b[39massert\u001b[39;00m callable( pass_instance ), \u001b[39mf\u001b[39m\u001b[39m\"\u001b[39m\u001b[39mShould override __call__ of \u001b[39m\u001b[39m{\u001b[39;00mpass_instance\u001b[39m.\u001b[39m\u001b[39m__name__\u001b[39m\u001b[39m}\u001b[39;00m\u001b[39m for a valid pass\u001b[39m\u001b[39m\"\u001b[39m\n\u001b[0;32m--> 530\u001b[0m pass_instance( s )\n",
      "File \u001b[0;32m~/miniforge3/envs/pymtl/lib/python3.8/site-packages/pymtl3/passes/rtlir/behavioral/BehavioralRTLIRGenL1Pass.py:70\u001b[0m, in \u001b[0;36mBehavioralRTLIRGenL1Pass.__call__\u001b[0;34m(s, m)\u001b[0m\n\u001b[1;32m     68\u001b[0m visitor\u001b[39m.\u001b[39m_upblk_type \u001b[39m=\u001b[39m upblk_type\n\u001b[1;32m     69\u001b[0m upblk_info \u001b[39m=\u001b[39m m\u001b[39m.\u001b[39mget_update_block_info( blk )\n\u001b[0;32m---> 70\u001b[0m upblk \u001b[39m=\u001b[39m visitor\u001b[39m.\u001b[39;49menter( blk, upblk_info[\u001b[39m-\u001b[39;49m\u001b[39m1\u001b[39;49m] )\n\u001b[1;32m     71\u001b[0m upblk\u001b[39m.\u001b[39mis_lambda \u001b[39m=\u001b[39m upblk_info[\u001b[39m0\u001b[39m]\n\u001b[1;32m     72\u001b[0m upblk\u001b[39m.\u001b[39msrc       \u001b[39m=\u001b[39m upblk_info[\u001b[39m1\u001b[39m]\n",
      "File \u001b[0;32m~/miniforge3/envs/pymtl/lib/python3.8/site-packages/pymtl3/passes/rtlir/behavioral/BehavioralRTLIRGenL1Pass.py:108\u001b[0m, in \u001b[0;36mBehavioralRTLIRGeneratorL1.enter\u001b[0;34m(s, blk, ast)\u001b[0m\n\u001b[1;32m    105\u001b[0m     \u001b[39mpass\u001b[39;00m\n\u001b[1;32m    107\u001b[0m s\u001b[39m.\u001b[39mconst_extractor \u001b[39m=\u001b[39m ConstantExtractor( s\u001b[39m.\u001b[39mblk, s\u001b[39m.\u001b[39mglobals, s\u001b[39m.\u001b[39mclosure )\n\u001b[0;32m--> 108\u001b[0m ret \u001b[39m=\u001b[39m s\u001b[39m.\u001b[39;49mvisit( ast )\n\u001b[1;32m    109\u001b[0m ret\u001b[39m.\u001b[39mcomponent \u001b[39m=\u001b[39m s\u001b[39m.\u001b[39mcomponent\n\u001b[1;32m    110\u001b[0m \u001b[39mreturn\u001b[39;00m ret\n",
      "File \u001b[0;32m~/miniforge3/envs/pymtl/lib/python3.8/ast.py:371\u001b[0m, in \u001b[0;36mNodeVisitor.visit\u001b[0;34m(self, node)\u001b[0m\n\u001b[1;32m    369\u001b[0m method \u001b[39m=\u001b[39m \u001b[39m'\u001b[39m\u001b[39mvisit_\u001b[39m\u001b[39m'\u001b[39m \u001b[39m+\u001b[39m node\u001b[39m.\u001b[39m\u001b[39m__class__\u001b[39m\u001b[39m.\u001b[39m\u001b[39m__name__\u001b[39m\n\u001b[1;32m    370\u001b[0m visitor \u001b[39m=\u001b[39m \u001b[39mgetattr\u001b[39m(\u001b[39mself\u001b[39m, method, \u001b[39mself\u001b[39m\u001b[39m.\u001b[39mgeneric_visit)\n\u001b[0;32m--> 371\u001b[0m \u001b[39mreturn\u001b[39;00m visitor(node)\n",
      "File \u001b[0;32m~/miniforge3/envs/pymtl/lib/python3.8/site-packages/pymtl3/passes/rtlir/behavioral/BehavioralRTLIRGenL1Pass.py:140\u001b[0m, in \u001b[0;36mBehavioralRTLIRGeneratorL1.visit_Module\u001b[0;34m(s, node)\u001b[0m\n\u001b[1;32m    136\u001b[0m \u001b[39mif\u001b[39;00m \u001b[39mlen\u001b[39m( node\u001b[39m.\u001b[39mbody ) \u001b[39m!=\u001b[39m \u001b[39m1\u001b[39m \u001b[39mor\u001b[39;00m \\\n\u001b[1;32m    137\u001b[0m     \u001b[39mnot\u001b[39;00m \u001b[39misinstance\u001b[39m( node\u001b[39m.\u001b[39mbody[\u001b[39m0\u001b[39m], ast\u001b[39m.\u001b[39mFunctionDef ):\n\u001b[1;32m    138\u001b[0m   \u001b[39mraise\u001b[39;00m PyMTLSyntaxError( s\u001b[39m.\u001b[39mblk, node,\n\u001b[1;32m    139\u001b[0m     \u001b[39m'\u001b[39m\u001b[39mUpdate blocks should have exactly one FuncDef!\u001b[39m\u001b[39m'\u001b[39m )\n\u001b[0;32m--> 140\u001b[0m ret \u001b[39m=\u001b[39m s\u001b[39m.\u001b[39;49mvisit( node\u001b[39m.\u001b[39;49mbody[\u001b[39m0\u001b[39;49m] )\n\u001b[1;32m    141\u001b[0m ret\u001b[39m.\u001b[39mast \u001b[39m=\u001b[39m node\n\u001b[1;32m    142\u001b[0m \u001b[39mreturn\u001b[39;00m ret\n",
      "File \u001b[0;32m~/miniforge3/envs/pymtl/lib/python3.8/ast.py:371\u001b[0m, in \u001b[0;36mNodeVisitor.visit\u001b[0;34m(self, node)\u001b[0m\n\u001b[1;32m    369\u001b[0m method \u001b[39m=\u001b[39m \u001b[39m'\u001b[39m\u001b[39mvisit_\u001b[39m\u001b[39m'\u001b[39m \u001b[39m+\u001b[39m node\u001b[39m.\u001b[39m\u001b[39m__class__\u001b[39m\u001b[39m.\u001b[39m\u001b[39m__name__\u001b[39m\n\u001b[1;32m    370\u001b[0m visitor \u001b[39m=\u001b[39m \u001b[39mgetattr\u001b[39m(\u001b[39mself\u001b[39m, method, \u001b[39mself\u001b[39m\u001b[39m.\u001b[39mgeneric_visit)\n\u001b[0;32m--> 371\u001b[0m \u001b[39mreturn\u001b[39;00m visitor(node)\n",
      "File \u001b[0;32m~/miniforge3/envs/pymtl/lib/python3.8/site-packages/pymtl3/passes/rtlir/behavioral/BehavioralRTLIRGenL1Pass.py:163\u001b[0m, in \u001b[0;36mBehavioralRTLIRGeneratorL1.visit_FunctionDef\u001b[0;34m(s, node)\u001b[0m\n\u001b[1;32m    160\u001b[0m ret \u001b[39m=\u001b[39m s\u001b[39m.\u001b[39m_upblk_type( node\u001b[39m.\u001b[39mname, [] )\n\u001b[1;32m    162\u001b[0m \u001b[39mfor\u001b[39;00m stmt \u001b[39min\u001b[39;00m node\u001b[39m.\u001b[39mbody:\n\u001b[0;32m--> 163\u001b[0m   ret\u001b[39m.\u001b[39mbody\u001b[39m.\u001b[39mappend( s\u001b[39m.\u001b[39;49mvisit( stmt ) )\n\u001b[1;32m    164\u001b[0m ret\u001b[39m.\u001b[39mast \u001b[39m=\u001b[39m node\n\u001b[1;32m    165\u001b[0m \u001b[39mreturn\u001b[39;00m ret\n",
      "File \u001b[0;32m~/miniforge3/envs/pymtl/lib/python3.8/ast.py:371\u001b[0m, in \u001b[0;36mNodeVisitor.visit\u001b[0;34m(self, node)\u001b[0m\n\u001b[1;32m    369\u001b[0m method \u001b[39m=\u001b[39m \u001b[39m'\u001b[39m\u001b[39mvisit_\u001b[39m\u001b[39m'\u001b[39m \u001b[39m+\u001b[39m node\u001b[39m.\u001b[39m\u001b[39m__class__\u001b[39m\u001b[39m.\u001b[39m\u001b[39m__name__\u001b[39m\n\u001b[1;32m    370\u001b[0m visitor \u001b[39m=\u001b[39m \u001b[39mgetattr\u001b[39m(\u001b[39mself\u001b[39m, method, \u001b[39mself\u001b[39m\u001b[39m.\u001b[39mgeneric_visit)\n\u001b[0;32m--> 371\u001b[0m \u001b[39mreturn\u001b[39;00m visitor(node)\n",
      "File \u001b[0;32m~/miniforge3/envs/pymtl/lib/python3.8/site-packages/pymtl3/passes/rtlir/behavioral/BehavioralRTLIRGenL2Pass.py:163\u001b[0m, in \u001b[0;36mBehavioralRTLIRGeneratorL2.visit_For\u001b[0;34m(s, node)\u001b[0m\n\u001b[1;32m    161\u001b[0m body \u001b[39m=\u001b[39m []\n\u001b[1;32m    162\u001b[0m \u001b[39mfor\u001b[39;00m body_stmt \u001b[39min\u001b[39;00m node\u001b[39m.\u001b[39mbody:\n\u001b[0;32m--> 163\u001b[0m   body\u001b[39m.\u001b[39mappend( s\u001b[39m.\u001b[39;49mvisit( body_stmt ) )\n\u001b[1;32m    165\u001b[0m \u001b[39m# Before we return, clear the loop variable in the loop variable\u001b[39;00m\n\u001b[1;32m    166\u001b[0m \u001b[39m# environment\u001b[39;00m\n\u001b[1;32m    167\u001b[0m s\u001b[39m.\u001b[39mloop_var_env\u001b[39m.\u001b[39mremove( loop_var_name )\n",
      "File \u001b[0;32m~/miniforge3/envs/pymtl/lib/python3.8/ast.py:371\u001b[0m, in \u001b[0;36mNodeVisitor.visit\u001b[0;34m(self, node)\u001b[0m\n\u001b[1;32m    369\u001b[0m method \u001b[39m=\u001b[39m \u001b[39m'\u001b[39m\u001b[39mvisit_\u001b[39m\u001b[39m'\u001b[39m \u001b[39m+\u001b[39m node\u001b[39m.\u001b[39m\u001b[39m__class__\u001b[39m\u001b[39m.\u001b[39m\u001b[39m__name__\u001b[39m\n\u001b[1;32m    370\u001b[0m visitor \u001b[39m=\u001b[39m \u001b[39mgetattr\u001b[39m(\u001b[39mself\u001b[39m, method, \u001b[39mself\u001b[39m\u001b[39m.\u001b[39mgeneric_visit)\n\u001b[0;32m--> 371\u001b[0m \u001b[39mreturn\u001b[39;00m visitor(node)\n",
      "File \u001b[0;32m~/miniforge3/envs/pymtl/lib/python3.8/site-packages/pymtl3/passes/rtlir/behavioral/BehavioralRTLIRGenL2Pass.py:104\u001b[0m, in \u001b[0;36mBehavioralRTLIRGeneratorL2.visit_If\u001b[0;34m(s, node)\u001b[0m\n\u001b[1;32m    103\u001b[0m \u001b[39mdef\u001b[39;00m \u001b[39mvisit_If\u001b[39m( s, node ):\n\u001b[0;32m--> 104\u001b[0m   cond \u001b[39m=\u001b[39m s\u001b[39m.\u001b[39;49mvisit( node\u001b[39m.\u001b[39;49mtest )\n\u001b[1;32m    105\u001b[0m   body \u001b[39m=\u001b[39m []\n\u001b[1;32m    106\u001b[0m   \u001b[39mfor\u001b[39;00m body_stmt \u001b[39min\u001b[39;00m node\u001b[39m.\u001b[39mbody:\n",
      "File \u001b[0;32m~/miniforge3/envs/pymtl/lib/python3.8/ast.py:371\u001b[0m, in \u001b[0;36mNodeVisitor.visit\u001b[0;34m(self, node)\u001b[0m\n\u001b[1;32m    369\u001b[0m method \u001b[39m=\u001b[39m \u001b[39m'\u001b[39m\u001b[39mvisit_\u001b[39m\u001b[39m'\u001b[39m \u001b[39m+\u001b[39m node\u001b[39m.\u001b[39m\u001b[39m__class__\u001b[39m\u001b[39m.\u001b[39m\u001b[39m__name__\u001b[39m\n\u001b[1;32m    370\u001b[0m visitor \u001b[39m=\u001b[39m \u001b[39mgetattr\u001b[39m(\u001b[39mself\u001b[39m, method, \u001b[39mself\u001b[39m\u001b[39m.\u001b[39mgeneric_visit)\n\u001b[0;32m--> 371\u001b[0m \u001b[39mreturn\u001b[39;00m visitor(node)\n",
      "File \u001b[0;32m~/miniforge3/envs/pymtl/lib/python3.8/site-packages/pymtl3/passes/rtlir/behavioral/BehavioralRTLIRGenL2Pass.py:173\u001b[0m, in \u001b[0;36mBehavioralRTLIRGeneratorL2.visit_BoolOp\u001b[0;34m(s, node)\u001b[0m\n\u001b[1;32m    172\u001b[0m \u001b[39mdef\u001b[39;00m \u001b[39mvisit_BoolOp\u001b[39m( s, node ):\n\u001b[0;32m--> 173\u001b[0m   \u001b[39mraise\u001b[39;00m PyMTLSyntaxError( s\u001b[39m.\u001b[39mblk, node,\n\u001b[1;32m    174\u001b[0m       \u001b[39m'\u001b[39m\u001b[39mBoolean operations are not translatable due to inconsistent semantics \u001b[39m\u001b[39m'\u001b[39m\n\u001b[1;32m    175\u001b[0m       \u001b[39m'\u001b[39m\u001b[39mbetween Python and PyMTL. Please consider using bitwise &, |, and ~ instead!\u001b[39m\u001b[39m'\u001b[39m)\n",
      "\u001b[0;31mPyMTLSyntaxError\u001b[0m: \nIn file /Users/curtisbucher/Desktop/ramp-core/src/cl/register_rename.py, Line 77, Col 19:\n  if s.free_list[i] and s.pdst1 == 0:\n     ^\n- Boolean operations are not translatable due to inconsistent semantics between Python and PyMTL. Please consider using bitwise &, |, and ~ instead!"
     ]
    }
   ],
   "source": [
    "from src.cl.decoder import Decode, SingleInstDecode\n",
    "from src.cl.register_rename import RegisterRename\n",
    "from src.cl.dispatch import Dispatch\n",
    "from src.cl.reorder_buffer import ReorderBuffer\n",
    "from pymtl3.passes.backends.verilog import VerilogTranslationPass\n",
    "\n",
    "model = Decode()\n",
    "model.set_metadata(VerilogTranslationPass.enable, True)\n",
    "model.set_metadata(VerilogTranslationPass.explicit_file_name, \"./translated/\" + model.__module__.split(\".\")[-1])\n",
    "model.set_metadata(VerilogTranslationPass.explicit_module_name, model.__class__.__name__)\n",
    "\n",
    "# Generate Verilog\n",
    "model.apply( VerilogTranslationPass() )"
   ]
  },
  {
   "cell_type": "code",
   "execution_count": 7,
   "metadata": {},
   "outputs": [],
   "source": [
    "from src.fl.util import cascading_priority_encoder\n",
    "\n",
    "for x in range(2**32):\n",
    "    free_list = Bits64(x) << 1\n",
    "    a, b = cascading_priority_encoder(2, free_list)\n",
    "\n",
    "    pdst1, pdst2 = 0,0#Wire(Bits32), Wire(Bits32)\n",
    "    for i in range(64):\n",
    "        if free_list[i] and pdst1 == 0:\n",
    "            pdst1 = i\n",
    "        elif free_list[i] and pdst1 != 0:\n",
    "            pdst2 = i\n",
    "            break\n",
    "\n",
    "    if a != pdst1 or b != pdst2:\n",
    "        print(f\"fl: {free_list.bin()} \\na: {a} pdst1: {pdst1} \\nb: {b}  pdst2: {pdst2}\")\n",
    "        # break"
   ]
  }
 ],
 "metadata": {
  "kernelspec": {
   "display_name": "Python 3.8.13 ('pymtl')",
   "language": "python",
   "name": "python3"
  },
  "language_info": {
   "codemirror_mode": {
    "name": "ipython",
    "version": 3
   },
   "file_extension": ".py",
   "mimetype": "text/x-python",
   "name": "python",
   "nbconvert_exporter": "python",
   "pygments_lexer": "ipython3",
   "version": "3.8.13"
  },
  "orig_nbformat": 4,
  "vscode": {
   "interpreter": {
    "hash": "404177ea991b9b84da40358c1b3f7ecb2ed14adcaa10880c3c762453c0f61534"
   }
  }
 },
 "nbformat": 4,
 "nbformat_minor": 2
}
