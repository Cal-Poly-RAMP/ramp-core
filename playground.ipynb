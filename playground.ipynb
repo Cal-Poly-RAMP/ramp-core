{
 "cells": [
  {
   "cell_type": "code",
   "execution_count": 72,
   "metadata": {},
   "outputs": [],
   "source": [
    "from pymtl3 import *\n",
    "from pymtl3.passes.backends.verilog import *"
   ]
  },
  {
   "cell_type": "code",
   "execution_count": 73,
   "metadata": {},
   "outputs": [],
   "source": [
    "# Simulation\n",
    "class Adder(Component):\n",
    "    def construct (s):\n",
    "        s.a = InPort(32)\n",
    "        s.b = InPort(32)\n",
    "        s.q = OutPort(32)\n",
    "\n",
    "        @update\n",
    "        def comb():\n",
    "            s.q @= s.a + s.b"
   ]
  },
  {
   "cell_type": "code",
   "execution_count": 74,
   "metadata": {},
   "outputs": [
    {
     "name": "stdout",
     "output_type": "stream",
     "text": [
      "12\n"
     ]
    }
   ],
   "source": [
    "a = Adder()\n",
    "a.apply(DefaultPassGroup(linetrace=True, textwave=True))\n",
    "a.sim_reset()\n",
    "\n",
    "a.a @= 5\n",
    "a.b @= 7\n",
    "a.sim_eval_combinational()\n",
    "print(a.q.uint())"
   ]
  },
  {
   "cell_type": "code",
   "execution_count": 75,
   "metadata": {},
   "outputs": [
    {
     "name": "stdout",
     "output_type": "stream",
     "text": [
      "\n",
      "      |0    |1    |2    |3    \n",
      "\n",
      "  clk /‾‾\\__/‾‾\\__/‾‾\\__/‾‾\\__\n",
      "\n",
      "reset ‾‾‾‾‾‾‾‾‾‾‾‾‾‾‾‾‾‾\\_____\n",
      "\n",
      "    a \u001b[47m \u001b[30m0000000          \u001b[47m\u001b[30m|+0005\u001b[0m\n",
      "\n",
      "    b \u001b[47m \u001b[30m0000000          \u001b[47m\u001b[30m|+0007\u001b[0m\n",
      "\n",
      "    q \u001b[47m \u001b[30m0000000          \u001b[47m\u001b[30m|+000c\u001b[0m\n",
      "\n"
     ]
    }
   ],
   "source": [
    "a.sim_tick()\n",
    "a.print_textwave()"
   ]
  }
 ],
 "metadata": {
  "kernelspec": {
   "display_name": "Python 3.8.13 ('pymtl')",
   "language": "python",
   "name": "python3"
  },
  "language_info": {
   "codemirror_mode": {
    "name": "ipython",
    "version": 3
   },
   "file_extension": ".py",
   "mimetype": "text/x-python",
   "name": "python",
   "nbconvert_exporter": "python",
   "pygments_lexer": "ipython3",
   "version": "3.8.13"
  },
  "orig_nbformat": 4,
  "vscode": {
   "interpreter": {
    "hash": "404177ea991b9b84da40358c1b3f7ecb2ed14adcaa10880c3c762453c0f61534"
   }
  }
 },
 "nbformat": 4,
 "nbformat_minor": 2
}
