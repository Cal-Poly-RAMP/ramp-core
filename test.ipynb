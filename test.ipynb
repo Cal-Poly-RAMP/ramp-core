{
 "cells": [
  {
   "cell_type": "code",
   "execution_count": 36,
   "metadata": {},
   "outputs": [
    {
     "name": "stdout",
     "output_type": "stream",
     "text": [
      "0xb7\n",
      "208\n",
      "234\n",
      "13\n"
     ]
    }
   ],
   "source": [
    "import numpy as np\n",
    "\n",
    "filename = \"tests/input_files/test_system2.bin\"\n",
    "size = 256\n",
    "\n",
    "with open(filename, \"rb\") as f:\n",
    "    mem = np.fromfile(f, dtype=\"<u8\", count=size, )\n",
    "mem = np.pad(mem, (0, size - mem.size), \"constant\", constant_values=(0))\n"
   ]
  }
 ],
 "metadata": {
  "kernelspec": {
   "display_name": "Python 3.8.13 ('pymtl')",
   "language": "python",
   "name": "python3"
  },
  "language_info": {
   "codemirror_mode": {
    "name": "ipython",
    "version": 3
   },
   "file_extension": ".py",
   "mimetype": "text/x-python",
   "name": "python",
   "nbconvert_exporter": "python",
   "pygments_lexer": "ipython3",
   "version": "3.8.13"
  },
  "orig_nbformat": 4,
  "vscode": {
   "interpreter": {
    "hash": "404177ea991b9b84da40358c1b3f7ecb2ed14adcaa10880c3c762453c0f61534"
   }
  }
 },
 "nbformat": 4,
 "nbformat_minor": 2
}
