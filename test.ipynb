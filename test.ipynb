{
 "cells": [
  {
   "cell_type": "code",
   "execution_count": 3,
   "metadata": {},
   "outputs": [
    {
     "name": "stdout",
     "output_type": "stream",
     "text": [
      "[['pc*', 'inst1*', 'inst2*', 'busy_table*'], [0, 0, 0, '?'], [0, 0, 0, 0]]\n"
     ]
    }
   ],
   "source": [
    "import csv\n",
    "\n",
    "def to_int(x):\n",
    "    if x.strip() == '?':\n",
    "        return '?'\n",
    "    elif \"b\" in x:\n",
    "        return int(x, 2)\n",
    "    elif \"x\" in x:\n",
    "        return int(x, 16)\n",
    "    else:\n",
    "        return int(x)\n",
    "\n",
    "with open(\"tests/input_files/test_ramp_core_vector.csv\") as f:\n",
    "    csvreader = csv.reader(f)\n",
    "    header = [h.strip() for h in next(csvreader) if h]\n",
    "    rows = []\n",
    "    for row in csvreader:\n",
    "        rows.append([to_int(r) for r in row if r])\n",
    "\n",
    "print([header] + rows)"
   ]
  },
  {
   "cell_type": "markdown",
   "metadata": {},
   "source": []
  }
 ],
 "metadata": {
  "kernelspec": {
   "display_name": "Python 3.8.13 ('pymtl')",
   "language": "python",
   "name": "python3"
  },
  "language_info": {
   "codemirror_mode": {
    "name": "ipython",
    "version": 3
   },
   "file_extension": ".py",
   "mimetype": "text/x-python",
   "name": "python",
   "nbconvert_exporter": "python",
   "pygments_lexer": "ipython3",
   "version": "3.8.13"
  },
  "orig_nbformat": 4,
  "vscode": {
   "interpreter": {
    "hash": "404177ea991b9b84da40358c1b3f7ecb2ed14adcaa10880c3c762453c0f61534"
   }
  }
 },
 "nbformat": 4,
 "nbformat_minor": 2
}
