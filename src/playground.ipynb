{
 "cells": [
  {
   "cell_type": "code",
   "execution_count": 2,
   "metadata": {},
   "outputs": [],
   "source": [
    "from pymtl3 import *"
   ]
  },
  {
   "cell_type": "code",
   "execution_count": 3,
   "metadata": {},
   "outputs": [],
   "source": [
    "class Adder(Component):\n",
    "    def construct(s):\n",
    "        s.a = InPort(Bits32)\n",
    "        s.b = InPort(Bits32)\n",
    "        s.q = OutPort(Bits32)\n",
    "        @update\n",
    "        def combi():\n",
    "            s.q @= s.a + s.b"
   ]
  },
  {
   "cell_type": "code",
   "execution_count": 4,
   "metadata": {},
   "outputs": [
    {
     "name": "stdout",
     "output_type": "stream",
     "text": [
      "\n",
      "      |0    |1    \n",
      "\n",
      "  clk /‾‾\\__/‾‾\\__\n",
      "\n",
      "reset ____________\n",
      "\n",
      "    a \u001b[47m \u001b[30m+0004\u001b[47m\u001b[30m|+0005\u001b[0m\n",
      "\n",
      "    b \u001b[47m \u001b[30m+0004\u001b[47m\u001b[30m|+0005\u001b[0m\n",
      "\n",
      "    q \u001b[47m \u001b[30m+0008\u001b[47m\u001b[30m|+000a\u001b[0m\n",
      "\n"
     ]
    }
   ],
   "source": [
    "a = Adder()\n",
    "a.apply(DefaultPassGroup(textwave=True))\n",
    "\n",
    "a.a @= 4\n",
    "a.b @= 4\n",
    "a.sim_tick()\n",
    "\n",
    "a.a @= 5\n",
    "a.b @= 5\n",
    "a.sim_tick()\n",
    "\n",
    "a.print_textwave()\n",
    "\n",
    "\n"
   ]
  },
  {
   "cell_type": "code",
   "execution_count": 10,
   "metadata": {},
   "outputs": [
    {
     "data": {
      "text/plain": [
       "Bits32(0x00000008)"
      ]
     },
     "execution_count": 10,
     "metadata": {},
     "output_type": "execute_result"
    }
   ],
   "source": [
    "a = Adder()\n",
    "a.apply(DefaultPassGroup(textwave=True))\n",
    "\n",
    "a.a @= 4\n",
    "a.b @= 4\n",
    "\n",
    "a.sim_eval_combinational()\n",
    "\n",
    "a.q"
   ]
  }
 ],
 "metadata": {
  "kernelspec": {
   "display_name": "Python 3.8.13 ('pymtl')",
   "language": "python",
   "name": "python3"
  },
  "language_info": {
   "codemirror_mode": {
    "name": "ipython",
    "version": 3
   },
   "file_extension": ".py",
   "mimetype": "text/x-python",
   "name": "python",
   "nbconvert_exporter": "python",
   "pygments_lexer": "ipython3",
   "version": "3.8.13"
  },
  "orig_nbformat": 4,
  "vscode": {
   "interpreter": {
    "hash": "404177ea991b9b84da40358c1b3f7ecb2ed14adcaa10880c3c762453c0f61534"
   }
  }
 },
 "nbformat": 4,
 "nbformat_minor": 2
}
